{
 "cells": [
  {
   "cell_type": "code",
   "execution_count": 9,
   "id": "e4655cb2",
   "metadata": {},
   "outputs": [],
   "source": [
    "from collections import deque "
   ]
  },
  {
   "cell_type": "code",
   "execution_count": 10,
   "id": "9fcf19c3",
   "metadata": {},
   "outputs": [],
   "source": [
    "class pila:\n",
    "    def _init_(self):\n",
    "        self.__datos = []\n",
    "        \n",
    "    def meter(self,valor):\n",
    "        self.__datos.append(valor)\n",
    "    \n",
    "    def sacar(self):\n",
    "        p_ult = len (self.__datos) - 1\n",
    "        if (p_ult > 0):\n",
    "            del self.__datos[p_ult]\n",
    "            \n",
    "    def numElem(self):\n",
    "        return len(self.__datos)\n",
    "    \n",
    "    # Invierte los elementos pila\n",
    "    def invertir(self):\n",
    "        pass\n",
    "    \n",
    "    # Elimina todos los datos de la pila \n",
    "    def vaciar(self):\n",
    "        for num in range(0,len(self.__datos)) :\n",
    "            sacar()\n",
    "    \n",
    "    # Retorna los datos de la pila en una lista\n",
    "    def listapila(self):\n",
    "        pass\n",
    "    \n",
    "    def _str_(self):\n",
    "        return str(self.__datos)"
   ]
  },
  {
   "cell_type": "code",
   "execution_count": 11,
   "id": "7859df7a",
   "metadata": {},
   "outputs": [],
   "source": [
    "p=pila()"
   ]
  },
  {
   "cell_type": "code",
   "execution_count": 13,
   "id": "cb25e25a",
   "metadata": {},
   "outputs": [
    {
     "ename": "AttributeError",
     "evalue": "'pila' object has no attribute '_pila__datos'",
     "output_type": "error",
     "traceback": [
      "\u001b[1;31m---------------------------------------------------------------------------\u001b[0m",
      "\u001b[1;31mAttributeError\u001b[0m                            Traceback (most recent call last)",
      "Input \u001b[1;32mIn [13]\u001b[0m, in \u001b[0;36m<cell line: 1>\u001b[1;34m()\u001b[0m\n\u001b[1;32m----> 1\u001b[0m \u001b[43mp\u001b[49m\u001b[38;5;241;43m.\u001b[39;49m\u001b[43mmeter\u001b[49m\u001b[43m(\u001b[49m\u001b[38;5;124;43m'\u001b[39;49m\u001b[38;5;124;43mggg\u001b[39;49m\u001b[38;5;124;43m'\u001b[39;49m\u001b[43m)\u001b[49m\n",
      "Input \u001b[1;32mIn [10]\u001b[0m, in \u001b[0;36mpila.meter\u001b[1;34m(self, valor)\u001b[0m\n\u001b[0;32m      5\u001b[0m \u001b[38;5;28;01mdef\u001b[39;00m \u001b[38;5;21mmeter\u001b[39m(\u001b[38;5;28mself\u001b[39m,valor):\n\u001b[1;32m----> 6\u001b[0m     \u001b[38;5;28;43mself\u001b[39;49m\u001b[38;5;241;43m.\u001b[39;49m\u001b[43m__datos\u001b[49m\u001b[38;5;241m.\u001b[39mappend(valor)\n",
      "\u001b[1;31mAttributeError\u001b[0m: 'pila' object has no attribute '_pila__datos'"
     ]
    }
   ],
   "source": [
    "p.meter('ggg')"
   ]
  },
  {
   "cell_type": "code",
   "execution_count": null,
   "id": "c8b63fe1",
   "metadata": {},
   "outputs": [],
   "source": []
  }
 ],
 "metadata": {
  "kernelspec": {
   "display_name": "Python 3 (ipykernel)",
   "language": "python",
   "name": "python3"
  },
  "language_info": {
   "codemirror_mode": {
    "name": "ipython",
    "version": 3
   },
   "file_extension": ".py",
   "mimetype": "text/x-python",
   "name": "python",
   "nbconvert_exporter": "python",
   "pygments_lexer": "ipython3",
   "version": "3.9.12"
  }
 },
 "nbformat": 4,
 "nbformat_minor": 5
}
