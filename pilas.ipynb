{
 "cells": [
  {
   "cell_type": "markdown",
   "id": "7dcda542",
   "metadata": {},
   "source": [
    "# conceptos de Pila \n",
    "\n",
    "## son colecciones de elementos ordenados que unicamente permiten dos acciones:\n",
    "\n",
    "### Añadir un elemento \n",
    "\n",
    "### Sacar un elemento de la pila \n",
    "\n",
    "las podemos crear como lstas normales y añadir elementos al final con el append()"
   ]
  },
  {
   "cell_type": "code",
   "execution_count": 24,
   "id": "b5b37d49",
   "metadata": {},
   "outputs": [
    {
     "name": "stdout",
     "output_type": "stream",
     "text": [
      "[3, 4, 5, 6, 7]\n"
     ]
    }
   ],
   "source": [
    "pila = [3,4,5]\n",
    "pila.append(6)\n",
    "pila.append(7)\n",
    "print(pila)\n"
   ]
  },
  {
   "cell_type": "markdown",
   "id": "314e3e53",
   "metadata": {},
   "source": [
    "para sacar los elemento utilizaremos el metodo pop(). la utilizar este metodo devolveremos el ultimo elemento, pero tambien lo borraremos \n"
   ]
  },
  {
   "cell_type": "code",
   "execution_count": 25,
   "id": "427a4db7",
   "metadata": {},
   "outputs": [
    {
     "name": "stdout",
     "output_type": "stream",
     "text": [
      "7\n",
      "[3, 4, 5, 6]\n"
     ]
    }
   ],
   "source": [
    "print(pila.pop())\n",
    "print(pila)"
   ]
  },
  {
   "cell_type": "code",
   "execution_count": 26,
   "id": "18dd19e8",
   "metadata": {},
   "outputs": [
    {
     "name": "stdout",
     "output_type": "stream",
     "text": [
      "6\n",
      "[3, 4, 5]\n"
     ]
    }
   ],
   "source": [
    "print(pila.pop())\n",
    "print(pila)"
   ]
  },
  {
   "cell_type": "code",
   "execution_count": 27,
   "id": "592d4225",
   "metadata": {},
   "outputs": [
    {
     "name": "stdout",
     "output_type": "stream",
     "text": [
      "5\n",
      "[3, 4]\n"
     ]
    }
   ],
   "source": [
    "print(pila.pop())\n",
    "print(pila)"
   ]
  },
  {
   "cell_type": "code",
   "execution_count": 28,
   "id": "0255fa62",
   "metadata": {},
   "outputs": [
    {
     "name": "stdout",
     "output_type": "stream",
     "text": [
      "4\n",
      "[3]\n"
     ]
    }
   ],
   "source": [
    "print(pila.pop())\n",
    "print(pila)"
   ]
  },
  {
   "cell_type": "code",
   "execution_count": 29,
   "id": "1b450cfd",
   "metadata": {},
   "outputs": [
    {
     "name": "stdout",
     "output_type": "stream",
     "text": [
      "[3]\n"
     ]
    }
   ],
   "source": [
    "\n",
    "print(pila)"
   ]
  },
  {
   "cell_type": "markdown",
   "id": "4dd8e3a8",
   "metadata": {},
   "source": [
    "# funciones en python \n",
    "\n",
    "## crear funciones \n",
    "\n",
    "si no existe ya la funcion que necesitamos, resusta muy sencillo crearla en python, primero la declaramos con def y luego definimos su contenido \n",
    "\n"
   ]
  },
  {
   "cell_type": "code",
   "execution_count": 19,
   "id": "07e59703",
   "metadata": {},
   "outputs": [
    {
     "name": "stdout",
     "output_type": "stream",
     "text": [
      "9\n"
     ]
    }
   ],
   "source": [
    "def sumar(num1, num2):#tenga en cuneta los puntos cuando definamos el metodo \n",
    "    print(num1 + num2)\n",
    "sumar(4,5)"
   ]
  },
  {
   "cell_type": "markdown",
   "id": "83212d3c",
   "metadata": {},
   "source": [
    "# Metodos en python \n",
    "\n",
    "python es un lenguaje multiparadigma, que soporta programacion orientada a objetos siendo las clases y los objetos sus principales bloques de desarrollo. las clases son los modelos sobre los cuales se construirian nuestros objetos."
   ]
  },
  {
   "cell_type": "code",
   "execution_count": 20,
   "id": "83ba9fc2",
   "metadata": {},
   "outputs": [
    {
     "name": "stdout",
     "output_type": "stream",
     "text": [
      "hola soy un agalleta muy sabrosa\n"
     ]
    }
   ],
   "source": [
    "class Galleta:\n",
    "    chocolate = False \n",
    "    \n",
    "    def saludar():\n",
    "        print(\"hola soy un agalleta muy sabrosa\")\n",
    "Galleta.saludar()"
   ]
  },
  {
   "cell_type": "markdown",
   "id": "dcb491ad",
   "metadata": {},
   "source": [
    "## problema 1:\n",
    " plantear una clase Operaciones que solicite en el metodo init la carga de los de dos enteros e inmediatamente muestre la suma, rest, multiplicacion, y divicion. hacer cada operacion en otro metodo de la clase Operacion  y llamarlos desde el mismo metodo init \n",
    "\n",
    "\n"
   ]
  },
  {
   "cell_type": "code",
   "execution_count": 32,
   "id": "44a3c4a4",
   "metadata": {},
   "outputs": [],
   "source": [
    "class Operacion:\n",
    "    def __init__(self):\n",
    "        self.valor1=int(input(\"Ingrese el primer valor \"))\n",
    "        self.valor2=int(input(\"Ingrese el segundo valor \"))\n",
    "        self.sumar()\n",
    "        self.restar()\n",
    "        self.multiplicar()\n",
    "        self.dividir()\n",
    "     \n",
    "    def sumar(self):\n",
    "        suma= self.valor1+self.valor2\n",
    "        print(\"el producto es\", suma)\n",
    "        \n",
    "    def restar(self):\n",
    "        res= self.valor1-self.valor2\n",
    "        print(\"el producto es\", res)\n",
    "        \n",
    "    def multiplicar(self):\n",
    "        mul= self.valor1*self.valor2\n",
    "        print(\"el producto es\", mul)\n",
    "        \n",
    "    def dividir(self):\n",
    "        div= self.valor1/self.valor2\n",
    "        print(\"el producto es\", div)\n",
    "        \n",
    "        "
   ]
  },
  {
   "cell_type": "code",
   "execution_count": 34,
   "id": "10aedac3",
   "metadata": {},
   "outputs": [
    {
     "name": "stdout",
     "output_type": "stream",
     "text": [
      "Ingrese el primer valor 8\n",
      "Ingrese el segundo valor 6\n",
      "el producto es 14\n",
      "el producto es 2\n",
      "el producto es 48\n",
      "el producto es 1.3333333333333333\n"
     ]
    }
   ],
   "source": [
    " operacion1 = Operacion() #instaciamos operaciones creando el objeto operacion1 \n"
   ]
  },
  {
   "cell_type": "markdown",
   "id": "531f04b4",
   "metadata": {},
   "source": [
    "# problema 2:"
   ]
  },
  {
   "cell_type": "code",
   "execution_count": null,
   "id": "2a7358b6",
   "metadata": {},
   "outputs": [],
   "source": []
  }
 ],
 "metadata": {
  "kernelspec": {
   "display_name": "Python 3 (ipykernel)",
   "language": "python",
   "name": "python3"
  },
  "language_info": {
   "codemirror_mode": {
    "name": "ipython",
    "version": 3
   },
   "file_extension": ".py",
   "mimetype": "text/x-python",
   "name": "python",
   "nbconvert_exporter": "python",
   "pygments_lexer": "ipython3",
   "version": "3.9.12"
  }
 },
 "nbformat": 4,
 "nbformat_minor": 5
}
