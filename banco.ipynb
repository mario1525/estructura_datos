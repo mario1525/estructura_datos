{
 "cells": [
  {
   "cell_type": "markdown",
   "id": "fe7713af",
   "metadata": {},
   "source": [
    "# actividad \n"
   ]
  },
  {
   "cell_type": "code",
   "execution_count": 2,
   "id": "70b29c95",
   "metadata": {},
   "outputs": [
    {
     "name": "stdout",
     "output_type": "stream",
     "text": [
      "bienvanidos a BBVA\n",
      "digite su nombre: mario\n",
      "su turno es el:  1\n"
     ]
    }
   ],
   "source": [
    "print(\"bienvanidos a BBVA\")\n",
    "cola = []\n",
    "\n",
    "nombre = input(\"digite su nombre: \")\n",
    "cola.append(nombre)\n",
    "print(\"su turno es el: \",len(cola))\n",
    "\n"
   ]
  },
  {
   "cell_type": "code",
   "execution_count": 10,
   "id": "3cd3437d",
   "metadata": {},
   "outputs": [],
   "source": [
    "class BBVA:\n",
    "    def __init__(self):\n",
    "        print(\"bienvanidos a BBVA\")\n",
    "        cola = []                \n",
    "        op = 2 \n",
    "        \n",
    "        while(op != 3):\n",
    "            if(int(op)== 1):           \n",
    "                self.atender(cola)\n",
    "            elif(int(op)==2):                \n",
    "                self.agregar(cola)            \n",
    "                \n",
    "            op = int(input(\"digite 1 si quiere atender o 2 si quiere agregar o 3 si desea salir: \"))\n",
    "            \n",
    "                \n",
    "        \n",
    "        \n",
    "        \n",
    "    def atender(self,cola):       \n",
    "        if(len(cola)>1):\n",
    "            cola.pop(0)\n",
    "            print(\"el siguiente es: \",cola[0])\n",
    "        else:\n",
    "            print(\"la cola esta vacia\")\n",
    "        \n",
    "    def agregar(self,cola):\n",
    "        nombre = input(\"digite su nombre: \")\n",
    "        cola.append(nombre)\n",
    "        print(\"su turno es el: \",len(cola)) \n",
    "            \n",
    "         \n",
    "        \n",
    "        "
   ]
  },
  {
   "cell_type": "code",
   "execution_count": null,
   "id": "1e7ee104",
   "metadata": {},
   "outputs": [
    {
     "name": "stdout",
     "output_type": "stream",
     "text": [
      "bienvanidos a BBVA\n",
      "digite su nombre: mario\n",
      "su turno es el:  1\n",
      "digite 1 si quiere atender o 2 si quiere agregar o 3 si desea salir: 1\n",
      "la colo esta vacia\n"
     ]
    }
   ],
   "source": [
    "bb = BBVA()"
   ]
  },
  {
   "cell_type": "code",
   "execution_count": null,
   "id": "c1373755",
   "metadata": {},
   "outputs": [],
   "source": []
  }
 ],
 "metadata": {
  "kernelspec": {
   "display_name": "Python 3 (ipykernel)",
   "language": "python",
   "name": "python3"
  },
  "language_info": {
   "codemirror_mode": {
    "name": "ipython",
    "version": 3
   },
   "file_extension": ".py",
   "mimetype": "text/x-python",
   "name": "python",
   "nbconvert_exporter": "python",
   "pygments_lexer": "ipython3",
   "version": "3.9.12"
  }
 },
 "nbformat": 4,
 "nbformat_minor": 5
}
