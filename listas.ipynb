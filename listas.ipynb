{
 "cells": [
  {
   "cell_type": "markdown",
   "id": "c752d2e6",
   "metadata": {},
   "source": [
    "# lista "
   ]
  },
  {
   "cell_type": "markdown",
   "id": "1afd31b1",
   "metadata": {},
   "source": [
    "## definicion\n"
   ]
  },
  {
   "cell_type": "markdown",
   "id": "a882c533",
   "metadata": {},
   "source": [
    "#una lista en python es una estructura de datos formado por una secuencia ordenada de objetos \n",
    "#los elementos de una lista pueden accederse mediante su indice siendo el cero el indice del primer elemento.\n",
    "la lista en python son variables que almacenan arrays, internamente cada poscion puede ser de un tipo de dato diferente."
   ]
  },
  {
   "cell_type": "code",
   "execution_count": 15,
   "id": "95e120dd",
   "metadata": {},
   "outputs": [
    {
     "name": "stdout",
     "output_type": "stream",
     "text": [
      "['b', 5, 5.1, 'd', 'pera', 'mango', 'mario', 'caja', 80]\n"
     ]
    }
   ],
   "source": [
    "my_lista=[\"b\",5,5.1,\"d\",\"pera\",\"mango\",\"mario\",\"caja\",80]\n",
    "print(my_lista)"
   ]
  },
  {
   "cell_type": "code",
   "execution_count": 16,
   "id": "67c4ab82",
   "metadata": {},
   "outputs": [
    {
     "name": "stdout",
     "output_type": "stream",
     "text": [
      "mango\n"
     ]
    }
   ],
   "source": [
    "print(my_lista[5])"
   ]
  },
  {
   "cell_type": "code",
   "execution_count": 17,
   "id": "7db6233e",
   "metadata": {},
   "outputs": [
    {
     "name": "stdout",
     "output_type": "stream",
     "text": [
      "d\n"
     ]
    }
   ],
   "source": [
    "print(my_lista[3])"
   ]
  },
  {
   "cell_type": "code",
   "execution_count": 18,
   "id": "c58631b6",
   "metadata": {},
   "outputs": [
    {
     "data": {
      "text/plain": [
       "9"
      ]
     },
     "execution_count": 18,
     "metadata": {},
     "output_type": "execute_result"
    }
   ],
   "source": [
    "\n",
    "len(my_lista)"
   ]
  },
  {
   "cell_type": "markdown",
   "id": "59b73c09",
   "metadata": {},
   "source": [
    "# recopilemos sobre lista "
   ]
  },
  {
   "cell_type": "code",
   "execution_count": 19,
   "id": "45a37001",
   "metadata": {},
   "outputs": [
    {
     "name": "stdout",
     "output_type": "stream",
     "text": [
      "[1, 2, 3, 4, 5]\n"
     ]
    }
   ],
   "source": [
    "numero =[1,2,3,4,5]\n",
    "print(numero)\n",
    "pocision1 = numero[0]\n",
    "longitud= len(numero)"
   ]
  },
  {
   "cell_type": "markdown",
   "id": "5b597d4b",
   "metadata": {},
   "source": [
    "# funcion format() en Python\n",
    "\n",
    "es un metodo de formateo de cadena de python3 (el formateo es lo mismo que la concatenacion en java)\n",
    "\n",
    "## Sintaxis: {} .format(valor)\n",
    "\n",
    "### parametros \n",
    "\n",
    "##(valor): puede ser un entero, una constante con , flotante, una cadena, cararcteres o incluso variables  "
   ]
  },
  {
   "cell_type": "code",
   "execution_count": 20,
   "id": "2483d177",
   "metadata": {},
   "outputs": [
    {
     "name": "stdout",
     "output_type": "stream",
     "text": [
      "el primer valor es:1\n",
      " La longitud de la lista es: 5\n",
      "1\n",
      "2\n",
      "3\n",
      "4\n",
      "5\n"
     ]
    }
   ],
   "source": [
    "print(f\"el primer valor es:{pocision1}\\n La longitud de la lista es: {longitud}\")\n",
    "for num in numero:\n",
    "    print(num)"
   ]
  },
  {
   "cell_type": "markdown",
   "id": "654ad2c0",
   "metadata": {},
   "source": [
    "# indexado y sublista\n",
    "indexacion cadenas en python significa utilizar la naturaleza del tipo de datos de cadenas para manipular y buscar cadenas por indice"
   ]
  },
  {
   "cell_type": "code",
   "execution_count": 21,
   "id": "efdb54c3",
   "metadata": {},
   "outputs": [
    {
     "name": "stdout",
     "output_type": "stream",
     "text": [
      "['mario', 'madheleyn', 'valentina', 'orlay', 'alexander', 'robert', 'sebastian']\n"
     ]
    }
   ],
   "source": [
    "lista=[\"mario\",\"madheleyn\",\"valentina\",\"orlay\",\"alexander\",\"robert\",\"sebastian\"]\n",
    "print(lista)"
   ]
  },
  {
   "cell_type": "code",
   "execution_count": 22,
   "id": "37c15174",
   "metadata": {},
   "outputs": [
    {
     "name": "stdout",
     "output_type": "stream",
     "text": [
      "sebastian\n",
      "robert\n"
     ]
    }
   ],
   "source": [
    "UPocision=lista[-1]\n",
    "print(UPocision)\n",
    "penultimo=lista[-2]\n",
    "print(penultimo)"
   ]
  },
  {
   "cell_type": "markdown",
   "id": "8e49e9b2",
   "metadata": {},
   "source": [
    "# utilizar format()"
   ]
  },
  {
   "cell_type": "code",
   "execution_count": 25,
   "id": "72c5ce3a",
   "metadata": {},
   "outputs": [
    {
     "name": "stdout",
     "output_type": "stream",
     "text": [
      "la ultima pocision es: sebastian, y la penultima es: robert\n"
     ]
    }
   ],
   "source": [
    "print(f\"la ultima pocision es: {UPocision}, y la penultima es: {penultimo}\")"
   ]
  },
  {
   "cell_type": "markdown",
   "id": "9fdf89ea",
   "metadata": {},
   "source": [
    "# sublista:\n",
    "las sublistas son nada mas mas que listas dentro de otra lista "
   ]
  },
  {
   "cell_type": "code",
   "execution_count": 27,
   "id": "4d2b2637",
   "metadata": {},
   "outputs": [
    {
     "name": "stdout",
     "output_type": "stream",
     "text": [
      "['mario', 'madheleyn', 'valentina', 'orlay', 'alexander']\n"
     ]
    }
   ],
   "source": [
    "sublista = lista[0:5]\n",
    "print(sublista)"
   ]
  },
  {
   "cell_type": "markdown",
   "id": "b046bd8d",
   "metadata": {},
   "source": [
    "# comprobar elementos de una lista"
   ]
  },
  {
   "cell_type": "code",
   "execution_count": 31,
   "id": "779b04ce",
   "metadata": {},
   "outputs": [
    {
     "name": "stdout",
     "output_type": "stream",
     "text": [
      "el nombre si esta en la lista \n",
      "el nombre no esta en la lista \n"
     ]
    }
   ],
   "source": [
    "nombre=\"madheleyn\"\n",
    "nombre2=\"pedro\"\n",
    "if nombre in lista:\n",
    "    print(\"el nombre si esta en la lista \")\n",
    "    \n",
    "if nombre2 not in lista:\n",
    "    print(\"el nombre no esta en la lista \")"
   ]
  },
  {
   "cell_type": "markdown",
   "id": "20678ac3",
   "metadata": {},
   "source": [
    "# modificar elementos de listas \n"
   ]
  },
  {
   "cell_type": "code",
   "execution_count": 36,
   "id": "666fe0b5",
   "metadata": {},
   "outputs": [
    {
     "name": "stdout",
     "output_type": "stream",
     "text": [
      "['mario', 'pedro', 'valentina', 'orlay', 'alexander', 'robert', 'sebastian']\n"
     ]
    }
   ],
   "source": [
    "print(lista)"
   ]
  },
  {
   "cell_type": "code",
   "execution_count": 35,
   "id": "edbdf270",
   "metadata": {},
   "outputs": [
    {
     "name": "stdout",
     "output_type": "stream",
     "text": [
      "['mario', 'pedro', 'valentina', 'orlay', 'alexander', 'robert', 'sebastian']\n"
     ]
    }
   ],
   "source": [
    "lista[1]=\"pedro\"\n",
    "print(lista)"
   ]
  },
  {
   "cell_type": "code",
   "execution_count": 41,
   "id": "d9676702",
   "metadata": {},
   "outputs": [
    {
     "name": "stdout",
     "output_type": "stream",
     "text": [
      "['mariobeltranbeltran beltran ,beltran', 'pedro', 'valentina', 'orlay', 'alexander', 'robert', 'sebastian']\n"
     ]
    }
   ],
   "source": [
    "lista[0]+=\" ,beltran\"\n",
    "print(lista)"
   ]
  },
  {
   "cell_type": "markdown",
   "id": "ce01e8f4",
   "metadata": {},
   "source": [
    "# funcion .append()\n",
    "\n",
    "es una funcion que agrega un elemento al final de una lista, el es equibalente insert\n"
   ]
  },
  {
   "cell_type": "code",
   "execution_count": 51,
   "id": "606ff15d",
   "metadata": {},
   "outputs": [
    {
     "name": "stdout",
     "output_type": "stream",
     "text": [
      "['mariobeltranbeltran beltran ,beltran', 'pedro', 'valentina', 'orlay', 'alexander', 'robert', 'sebastian', 'martin', 'martin', 'martin', 'martin', 5]\n"
     ]
    }
   ],
   "source": [
    "lista.append(\"martin\")\n",
    "lista.append(5)\n",
    "print(lista)"
   ]
  },
  {
   "cell_type": "code",
   "execution_count": 49,
   "id": "8466878a",
   "metadata": {},
   "outputs": [
    {
     "name": "stdout",
     "output_type": "stream",
     "text": [
      "['do', 're', 'mi', 'fa', 'sol', 'la', 'si']\n"
     ]
    }
   ],
   "source": [
    "notasMusicales=[\"do\",\"re\",\"mi\"]\n",
    "notasMusicales.append(\"fa\")\n",
    "notasMusicales.append(\"sol\")\n",
    "notasMusicales.append(\"la\")\n",
    "notasMusicales.append(\"si\")\n",
    "print(notasMusicales)"
   ]
  },
  {
   "cell_type": "markdown",
   "id": "7813cfe2",
   "metadata": {},
   "source": [
    "# funcion .pop()\n",
    "\n",
    "la funcion pop se utiliza para eliminar objetos o elementos de la lista "
   ]
  },
  {
   "cell_type": "code",
   "execution_count": 2,
   "id": "8862bd4d",
   "metadata": {},
   "outputs": [
    {
     "ename": "NameError",
     "evalue": "name 'notasMusicales' is not defined",
     "output_type": "error",
     "traceback": [
      "\u001b[1;31m---------------------------------------------------------------------------\u001b[0m",
      "\u001b[1;31mNameError\u001b[0m                                 Traceback (most recent call last)",
      "Input \u001b[1;32mIn [2]\u001b[0m, in \u001b[0;36m<cell line: 1>\u001b[1;34m()\u001b[0m\n\u001b[1;32m----> 1\u001b[0m \u001b[43mnotasMusicales\u001b[49m\u001b[38;5;241m.\u001b[39mpop(\u001b[38;5;241m1\u001b[39m)\n\u001b[0;32m      2\u001b[0m notasMusicales\u001b[38;5;241m.\u001b[39mpop(\u001b[38;5;241m1\u001b[39m)\n\u001b[0;32m      3\u001b[0m notasMusicales\u001b[38;5;241m.\u001b[39mpop(\u001b[38;5;241m1\u001b[39m)\n",
      "\u001b[1;31mNameError\u001b[0m: name 'notasMusicales' is not defined"
     ]
    }
   ],
   "source": [
    "notasMusicales.pop(1)\n",
    "notasMusicales.pop(1)\n",
    "notasMusicales.pop(1)\n",
    "notasMusicales.pop(1)\n",
    "notasMusicales.pop(1)\n",
    "print(notasMusicales)"
   ]
  },
  {
   "cell_type": "code",
   "execution_count": null,
   "id": "3cecb1d2",
   "metadata": {},
   "outputs": [],
   "source": []
  }
 ],
 "metadata": {
  "kernelspec": {
   "display_name": "Python 3 (ipykernel)",
   "language": "python",
   "name": "python3"
  },
  "language_info": {
   "codemirror_mode": {
    "name": "ipython",
    "version": 3
   },
   "file_extension": ".py",
   "mimetype": "text/x-python",
   "name": "python",
   "nbconvert_exporter": "python",
   "pygments_lexer": "ipython3",
   "version": "3.9.12"
  }
 },
 "nbformat": 4,
 "nbformat_minor": 5
}
