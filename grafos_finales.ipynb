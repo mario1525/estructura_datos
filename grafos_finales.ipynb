{
 "cells": [
  {
   "cell_type": "code",
   "execution_count": 5,
   "id": "3269c514",
   "metadata": {},
   "outputs": [],
   "source": [
    "import networkx as nx"
   ]
  },
  {
   "cell_type": "code",
   "execution_count": 6,
   "id": "e5f30975",
   "metadata": {},
   "outputs": [],
   "source": [
    "G = nx.Graph()\n",
    "\n",
    "#agregar nodos\n",
    "G.add_nodes_from([\"a\",\"b\",\"c\",\"d\"])\n",
    "\n",
    "#agregar aristas\n",
    "G.add_edge(\"a\",\"b\")\n",
    "G.add_edge(\"a\",\"c\")\n",
    "G.add_edge(\"a\",\"d\")\n",
    "G.add_edge(\"c\",\"d\")\n",
    "G.add_edge(\"d\",\"b\")\n",
    "G.add_edge(\"c\",\"b\")\n",
    "\n",
    "#agregar etiquetas\n",
    "G.nodes[\"a\"][\"b\"]=20\n",
    "G.nodes[\"a\"][\"c\"]=10\n",
    "G.nodes[\"a\"][\"d\"]=22\n",
    "G.nodes[\"c\"][\"d\"]=18\n",
    "G.nodes[\"d\"][\"b\"]=30\n",
    "G.nodes[\"c\"][\"b\"]=15\n"
   ]
  },
  {
   "cell_type": "code",
   "execution_count": 13,
   "id": "08341f1e",
   "metadata": {},
   "outputs": [
    {
     "name": "stdout",
     "output_type": "stream",
     "text": [
      "devolver informacion sobre nodos\n",
      "4\n",
      "['a', 'b', 'c', 'd']\n",
      "devolver informacion sobre aristas\n",
      "6\n",
      "[('a', 'b'), ('a', 'c'), ('a', 'd'), ('b', 'd'), ('b', 'c'), ('c', 'd')]\n",
      "devolver las etiquetas\n",
      "15\n"
     ]
    }
   ],
   "source": [
    "# para devolver datos de los nodos\n",
    "print(\"devolver informacion sobre nodos\")\n",
    "print(len(G.nodes))\n",
    "print(G.nodes)\n",
    "\n",
    "#devuelve aristas \n",
    "print(\"devolver informacion sobre aristas\")\n",
    "print(len(G.edges))\n",
    "print(G.edges)\n",
    "\n",
    "#devolver las etiqueta de una arista \n",
    "print(\"devolver las etiquetas\")\n",
    "print(G.nodes[\"c\"][\"b\"])"
   ]
  },
  {
   "cell_type": "code",
   "execution_count": null,
   "id": "1f340ef8",
   "metadata": {},
   "outputs": [],
   "source": []
  }
 ],
 "metadata": {
  "kernelspec": {
   "display_name": "Python 3 (ipykernel)",
   "language": "python",
   "name": "python3"
  },
  "language_info": {
   "codemirror_mode": {
    "name": "ipython",
    "version": 3
   },
   "file_extension": ".py",
   "mimetype": "text/x-python",
   "name": "python",
   "nbconvert_exporter": "python",
   "pygments_lexer": "ipython3",
   "version": "3.9.12"
  }
 },
 "nbformat": 4,
 "nbformat_minor": 5
}
