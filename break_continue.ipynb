{
 "cells": [
  {
   "cell_type": "code",
   "execution_count": null,
   "metadata": {},
   "outputs": [],
   "source": [
    "nombre = \"valentina\"\n",
    "for n in nombre:\n",
    "\n",
    "    if n ==\"i\":\n",
    "        continue\n",
    "print n"
   ]
  },
  {
   "cell_type": "markdown",
   "metadata": {},
   "source": [
    "# menu de pila "
   ]
  },
  {
   "cell_type": "code",
   "execution_count": null,
   "metadata": {},
   "outputs": [],
   "source": [
    "#creamos una lista vacia \n",
    "stack = []\n",
    "#creamos un Menu con 4 opciones \n",
    "def main():\n",
    "    print (\"1 Aplilar elemento (entero)\")\n",
    "    print(\"2 Desapilar elemento\")\n",
    "    print(\"3 Mostrar pila\")\n",
    "    print(\"4 Salir\")\n",
    "    option= input (\"Elija una opcion: \")\n",
    "#Esta opcion permite apilar el numero en la lista \n",
    "    if str (option)==\"1\":\n",
    "        elemento = input (\"Introduzca el numero a apilar: \")\n",
    "        stack.append(elemento)\n",
    "        print(\"Elemento apilado\")\n",
    "        main()\n",
    "#Esta opcion saca desapilada a partir del ultimo numero ingresado \n",
    "    elif str(option)==\"2\":\n",
    "        if len (stack)  == 0:\n",
    "            print(\"No hay elementos para desapilar \")\n",
    "            main()\n",
    "        else: \n",
    "            print(\"El numero: \",stack.pop(),\"fue desapilado\")\n",
    "            main()\n",
    "#Esta opcion imprime en pantalla la pila \n",
    "    elif str(option)==\"3\":\n",
    "        for i in reversed (range(len(stack))):\n",
    "            print(\"pila:\",stack[i])\n",
    "            main()\n",
    "#Esta opcion permite salir de la ejecucion del codigo \n",
    "    elif str(option)==\"4\":\n",
    "        exit()\n",
    "    else:\n",
    "        print (\"\\nOpcion incorrecta.\\n\")\n",
    "        main()\n",
    "main()#creamos una lista vacia \n",
    "stack = []\n",
    "#creamos un Menu con 4 opciones \n",
    "def main():\n",
    "    print (\"1 Aplilar elemento (entero)\")\n",
    "    print(\"2 Desapilar elemento\")\n",
    "    print(\"3 Mostrar pila\")\n",
    "    print(\"4 Salir\")\n",
    "    option= input (\"Elija una opcion: \")\n",
    "#Esta opcion permite apilar el numero en la lista \n",
    "    if str (option)==\"1\":\n",
    "        elemento = input (\"Introduzca el numero a apilar: \")\n",
    "        stack.append(elemento)\n",
    "        print(\"Elemento apilado\")\n",
    "        main()\n",
    "#Esta opcion saca desapilada a partir del ultimo numero ingresado \n",
    "    elif str(option)==\"2\":\n",
    "        if len (stack)  == 0:\n",
    "            print(\"No hay elementos para desapilar \")\n",
    "            main()\n",
    "        else: \n",
    "            print(\"El numero: \",stack.pop(),\"fue desapilado\")\n",
    "            main()\n",
    "#Esta opcion imprime en pantalla la pila \n",
    "    elif str(option)==\"3\":\n",
    "        for i in reversed (range(len(stack))):\n",
    "            print(\"pila:\",stack[i])\n",
    "            main()\n",
    "#Esta opcion permite salir de la ejecucion del codigo \n",
    "    elif str(option)==\"4\":\n",
    "        exit()\n",
    "    else:\n",
    "        print (\"\\nOpcion incorrecta.\\n\")\n",
    "        main()\n",
    "main()"
   ]
  },
  {
   "cell_type": "code",
   "execution_count": null,
   "metadata": {},
   "outputs": [],
   "source": []
  }
 ],
 "metadata": {
  "language_info": {
   "name": "python"
  },
  "orig_nbformat": 4
 },
 "nbformat": 4,
 "nbformat_minor": 2
}
