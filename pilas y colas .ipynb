{
 "cells": [
  {
   "cell_type": "markdown",
   "id": "52325cbc",
   "metadata": {},
   "source": [
    "# pilas y colas \n",
    "\n",
    "los deques son una generalizacion de pilas y colas (se pronuncia \"deck\")\n",
    "lso deque admiten adiciones y elementos emergentes seguros para subprocesos y y eficientes en memoria\n",
    "\n",
    "## instrucciones pass \n",
    "\n",
    "la sentecia pass la utilizaremos cuando queremos crear una clase, metodo, funcion, bucle o condional, pero queremos definir ningun comportamiento. \n",
    "\n"
   ]
  },
  {
   "cell_type": "code",
   "execution_count": null,
   "id": "50d077b0",
   "metadata": {},
   "outputs": [],
   "source": [
    "class Myclass:\n",
    "    pass\n",
    "\n",
    "class Myclass2:\n",
    "    def myMet(self):\n",
    "        pass\n",
    "    \n",
    "def myFunction():\n",
    "    pass\n",
    "\n",
    "if 1 == 2:\n",
    "    pass\n",
    "\n",
    "while True:\n",
    "    pass\n",
    "\n",
    "for num in range(1,5):\n",
    "    pass"
   ]
  },
  {
   "cell_type": "markdown",
   "id": "7ecfa1fe",
   "metadata": {},
   "source": [
    "# actividad \n"
   ]
  },
  {
   "cell_type": "code",
   "execution_count": 47,
   "id": "6a1df1fd",
   "metadata": {},
   "outputs": [],
   "source": [
    "from collections import deque "
   ]
  },
  {
   "cell_type": "code",
   "execution_count": 48,
   "id": "106c1992",
   "metadata": {},
   "outputs": [],
   "source": [
    "class pila:\n",
    "    def _init_(self):\n",
    "        self.__datos = []\n",
    "        \n",
    "    def meter(self,valor):\n",
    "        self.__datos.append(valor)\n",
    "    \n",
    "    def sacar(self):\n",
    "        p_ult = len (self.__datos) - 1\n",
    "        if (p_ult > 0):\n",
    "            del self.__datos[p_ult]\n",
    "            \n",
    "    def numElem(self):\n",
    "        return len(self.__datos)\n",
    "    \n",
    "    # Invierte los elementos pila\n",
    "    def invertir(self):\n",
    "        pass\n",
    "    \n",
    "    # Elimina todos los datos de la pila \n",
    "    def vaciar(self):\n",
    "        for num in range(0,len(self.__datos)) :\n",
    "            sacar()\n",
    "    \n",
    "    # Retorna los datos de la pila en una lista\n",
    "    def listapila(self):\n",
    "        pass\n",
    "    \n",
    "    def _str_(self):\n",
    "        return str(self.__datos)\n",
    "        "
   ]
  },
  {
   "cell_type": "code",
   "execution_count": 42,
   "id": "a5c4df0a",
   "metadata": {},
   "outputs": [],
   "source": [
    "p=pila()\n",
    "    "
   ]
  },
  {
   "cell_type": "code",
   "execution_count": 49,
   "id": "ca4db271",
   "metadata": {},
   "outputs": [
    {
     "ename": "AttributeError",
     "evalue": "'pila' object has no attribute '_pila__datos'",
     "output_type": "error",
     "traceback": [
      "\u001b[1;31m---------------------------------------------------------------------------\u001b[0m",
      "\u001b[1;31mAttributeError\u001b[0m                            Traceback (most recent call last)",
      "Input \u001b[1;32mIn [49]\u001b[0m, in \u001b[0;36m<cell line: 1>\u001b[1;34m()\u001b[0m\n\u001b[1;32m----> 1\u001b[0m \u001b[43mp\u001b[49m\u001b[38;5;241;43m.\u001b[39;49m\u001b[43mmeter\u001b[49m\u001b[43m(\u001b[49m\u001b[38;5;241;43m6\u001b[39;49m\u001b[43m)\u001b[49m\n",
      "Input \u001b[1;32mIn [48]\u001b[0m, in \u001b[0;36mpila.meter\u001b[1;34m(self, valor)\u001b[0m\n\u001b[0;32m      5\u001b[0m \u001b[38;5;28;01mdef\u001b[39;00m \u001b[38;5;21mmeter\u001b[39m(\u001b[38;5;28mself\u001b[39m,valor):\n\u001b[1;32m----> 6\u001b[0m     \u001b[38;5;28;43mself\u001b[39;49m\u001b[38;5;241;43m.\u001b[39;49m\u001b[43m__datos\u001b[49m\u001b[38;5;241m.\u001b[39mappend(valor)\n",
      "\u001b[1;31mAttributeError\u001b[0m: 'pila' object has no attribute '_pila__datos'"
     ]
    }
   ],
   "source": [
    "p.meter(6)"
   ]
  },
  {
   "cell_type": "code",
   "execution_count": 50,
   "id": "23bca743",
   "metadata": {},
   "outputs": [
    {
     "ename": "AttributeError",
     "evalue": "'pila' object has no attribute '_pila__datos'",
     "output_type": "error",
     "traceback": [
      "\u001b[1;31m---------------------------------------------------------------------------\u001b[0m",
      "\u001b[1;31mAttributeError\u001b[0m                            Traceback (most recent call last)",
      "Input \u001b[1;32mIn [50]\u001b[0m, in \u001b[0;36m<cell line: 1>\u001b[1;34m()\u001b[0m\n\u001b[1;32m----> 1\u001b[0m \u001b[43mp\u001b[49m\u001b[38;5;241;43m.\u001b[39;49m\u001b[43mmeter\u001b[49m\u001b[43m(\u001b[49m\u001b[38;5;124;43m'\u001b[39;49m\u001b[38;5;124;43mperro\u001b[39;49m\u001b[38;5;124;43m'\u001b[39;49m\u001b[43m)\u001b[49m\n",
      "Input \u001b[1;32mIn [48]\u001b[0m, in \u001b[0;36mpila.meter\u001b[1;34m(self, valor)\u001b[0m\n\u001b[0;32m      5\u001b[0m \u001b[38;5;28;01mdef\u001b[39;00m \u001b[38;5;21mmeter\u001b[39m(\u001b[38;5;28mself\u001b[39m,valor):\n\u001b[1;32m----> 6\u001b[0m     \u001b[38;5;28;43mself\u001b[39;49m\u001b[38;5;241;43m.\u001b[39;49m\u001b[43m__datos\u001b[49m\u001b[38;5;241m.\u001b[39mappend(valor)\n",
      "\u001b[1;31mAttributeError\u001b[0m: 'pila' object has no attribute '_pila__datos'"
     ]
    }
   ],
   "source": [
    "p.meter('perro')"
   ]
  },
  {
   "cell_type": "code",
   "execution_count": 51,
   "id": "8a003865",
   "metadata": {},
   "outputs": [
    {
     "name": "stdout",
     "output_type": "stream",
     "text": [
      "<__main__.pila object at 0x000001CD6B2534F0>\n"
     ]
    }
   ],
   "source": [
    "print(p)"
   ]
  },
  {
   "cell_type": "code",
   "execution_count": null,
   "id": "ed51da19",
   "metadata": {},
   "outputs": [],
   "source": []
  }
 ],
 "metadata": {
  "kernelspec": {
   "display_name": "Python 3 (ipykernel)",
   "language": "python",
   "name": "python3"
  },
  "language_info": {
   "codemirror_mode": {
    "name": "ipython",
    "version": 3
   },
   "file_extension": ".py",
   "mimetype": "text/x-python",
   "name": "python",
   "nbconvert_exporter": "python",
   "pygments_lexer": "ipython3",
   "version": "3.9.12"
  }
 },
 "nbformat": 4,
 "nbformat_minor": 5
}
