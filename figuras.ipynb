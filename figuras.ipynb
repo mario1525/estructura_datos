{
 "cells": [
  {
   "cell_type": "markdown",
   "id": "8e4a5d27",
   "metadata": {},
   "source": [
    "# perimetro y area de un circulo \n",
    "\n"
   ]
  },
  {
   "cell_type": "code",
   "execution_count": 1,
   "id": "091b89ed",
   "metadata": {},
   "outputs": [],
   "source": [
    "class figura:\n",
    "    def __init__(self):\n",
    "        self.valor1=int(input(\"dijite el radio\"))        \n",
    "        self.area()\n",
    "        self.perimetro()\n",
    "        \n",
    "     \n",
    "    def perimetro(self):\n",
    "        peri= 2*3.14*self.valor1\n",
    "        print(\"el perimetro es: \", peri)\n",
    "        \n",
    "    def area(self):\n",
    "        area= (self.valor1*self.valor1)*3.14\n",
    "        print(\"el area es: \", area)\n",
    "        \n",
    "    \n",
    "        "
   ]
  },
  {
   "cell_type": "code",
   "execution_count": 2,
   "id": "78422bcc",
   "metadata": {},
   "outputs": [
    {
     "name": "stdout",
     "output_type": "stream",
     "text": [
      "dijite el radio85\n",
      "el area es:  22686.5\n",
      "el perimetro es:  533.8000000000001\n"
     ]
    }
   ],
   "source": [
    "fig = figura()"
   ]
  },
  {
   "cell_type": "code",
   "execution_count": 6,
   "id": "4d841129",
   "metadata": {},
   "outputs": [],
   "source": [
    "class figura:\n",
    "    def __init__(self):\n",
    "        self.valor1=int(input(\"ingrese los diagonales:\"))\n",
    "        self.perimetro()\n",
    "        self.areas()\n",
    "    def areas(self):\n",
    "        area=(self.valor1*self.valor1)/2\n",
    "        print(\"el area del rombo es\",area)\n",
    "    def perimetro(self):\n",
    "        per = self.valor1 *4\n",
    "        print(\"el perimetro es: \",per)\n",
    "        "
   ]
  },
  {
   "cell_type": "code",
   "execution_count": 7,
   "id": "b91c3447",
   "metadata": {},
   "outputs": [
    {
     "name": "stdout",
     "output_type": "stream",
     "text": [
      "ingrese los diagonales:8\n",
      "el perimetro es:  32\n",
      "el area del rombo es 32.0\n"
     ]
    }
   ],
   "source": [
    "fig = figura()"
   ]
  },
  {
   "cell_type": "code",
   "execution_count": null,
   "id": "18f86092",
   "metadata": {},
   "outputs": [],
   "source": []
  }
 ],
 "metadata": {
  "kernelspec": {
   "display_name": "Python 3 (ipykernel)",
   "language": "python",
   "name": "python3"
  },
  "language_info": {
   "codemirror_mode": {
    "name": "ipython",
    "version": 3
   },
   "file_extension": ".py",
   "mimetype": "text/x-python",
   "name": "python",
   "nbconvert_exporter": "python",
   "pygments_lexer": "ipython3",
   "version": "3.9.12"
  }
 },
 "nbformat": 4,
 "nbformat_minor": 5
}
