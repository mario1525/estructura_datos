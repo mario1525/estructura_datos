{
 "cells": [
  {
   "cell_type": "markdown",
   "id": "98d389aa",
   "metadata": {},
   "source": [
    "modulo networkx esta es epecialista en graficar grafos \n",
    "\n",
    "investigar algoritmo de fuerza bruta \n",
    "\n",
    "mapploid netwokx numpy pandas tensorflow keras \n"
   ]
  }
 ],
 "metadata": {
  "kernelspec": {
   "display_name": "Python 3 (ipykernel)",
   "language": "python",
   "name": "python3"
  },
  "language_info": {
   "codemirror_mode": {
    "name": "ipython",
    "version": 3
   },
   "file_extension": ".py",
   "mimetype": "text/x-python",
   "name": "python",
   "nbconvert_exporter": "python",
   "pygments_lexer": "ipython3",
   "version": "3.9.12"
  }
 },
 "nbformat": 4,
 "nbformat_minor": 5
}
