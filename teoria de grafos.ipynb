{
 "cells": [
  {
   "cell_type": "markdown",
   "id": "98d389aa",
   "metadata": {},
   "source": [
    "modulo networkx esta es epecialista en graficar grafos \n",
    "\n",
    "investigar algoritmo de fuerza bruta \n",
    "\n",
    "mapploid netwokx numpy pandas tensorflow keras \n"
   ]
  },
  {
   "cell_type": "code",
   "execution_count": 2,
   "id": "c6b07e8f",
   "metadata": {
    "scrolled": true
   },
   "outputs": [
    {
     "ename": "ModuleNotFoundError",
     "evalue": "No module named 'graphviz'",
     "output_type": "error",
     "traceback": [
      "\u001b[1;31m---------------------------------------------------------------------------\u001b[0m",
      "\u001b[1;31mModuleNotFoundError\u001b[0m                       Traceback (most recent call last)",
      "Input \u001b[1;32mIn [2]\u001b[0m, in \u001b[0;36m<cell line: 2>\u001b[1;34m()\u001b[0m\n\u001b[0;32m      1\u001b[0m \u001b[38;5;28;01mimport\u001b[39;00m \u001b[38;5;21;01mnetworkx\u001b[39;00m \u001b[38;5;28;01mas\u001b[39;00m \u001b[38;5;21;01mnx\u001b[39;00m\n\u001b[1;32m----> 2\u001b[0m \u001b[38;5;28;01mimport\u001b[39;00m \u001b[38;5;21;01mgraphviz\u001b[39;00m\n",
      "\u001b[1;31mModuleNotFoundError\u001b[0m: No module named 'graphviz'"
     ]
    }
   ],
   "source": [
    "import networkx as nx\n",
    "import graphviz\n"
   ]
  },
  {
   "cell_type": "code",
   "execution_count": 4,
   "id": "c07f7167",
   "metadata": {},
   "outputs": [
    {
     "name": "stdout",
     "output_type": "stream",
     "text": [
      "[('Kevin Bacon', {}), ('Tom Hanks', {'oscars': 2}), ('Meg Ryan', {}), ('Parker Posey', {}), ('Lisa Kudrow', {})]\n",
      "[('Kevin Bacon', 'Tom Hanks', {'pelicula': 'Apolo 13'}), ('Kevin Bacon', 'Meg Ryan', {'pelicula': 'En carne viva'}), ('Tom Hanks', 'Meg Ryan', {}), ('Tom Hanks', 'Parker Posey', {'pelicula': 'Tienes un email'}), ('Meg Ryan', 'Parker Posey', {'pelicula': 'Algo para recordar'}), ('Parker Posey', 'Lisa Kudrow', {'pelicula': 'Esperando la hora'})]\n",
      "{'Tom Hanks': {'pelicula': 'Apolo 13'}, 'Meg Ryan': {'pelicula': 'En carne viva'}}\n",
      "5\n",
      "6\n",
      "['Kevin Bacon', 'Tom Hanks', 'Meg Ryan', 'Parker Posey', 'Lisa Kudrow']\n",
      "[('Kevin Bacon', 'Tom Hanks'), ('Kevin Bacon', 'Meg Ryan'), ('Tom Hanks', 'Meg Ryan'), ('Tom Hanks', 'Parker Posey'), ('Meg Ryan', 'Parker Posey'), ('Parker Posey', 'Lisa Kudrow')]\n"
     ]
    },
    {
     "ename": "ImportError",
     "evalue": "requires pygraphviz http://pygraphviz.github.io/",
     "output_type": "error",
     "traceback": [
      "\u001b[1;31m---------------------------------------------------------------------------\u001b[0m",
      "\u001b[1;31mModuleNotFoundError\u001b[0m                       Traceback (most recent call last)",
      "File \u001b[1;32m~\\anaconda3\\lib\\site-packages\\networkx\\drawing\\nx_agraph.py:132\u001b[0m, in \u001b[0;36mto_agraph\u001b[1;34m(N)\u001b[0m\n\u001b[0;32m    131\u001b[0m \u001b[38;5;28;01mtry\u001b[39;00m:\n\u001b[1;32m--> 132\u001b[0m     \u001b[38;5;28;01mimport\u001b[39;00m \u001b[38;5;21;01mpygraphviz\u001b[39;00m\n\u001b[0;32m    133\u001b[0m \u001b[38;5;28;01mexcept\u001b[39;00m \u001b[38;5;167;01mImportError\u001b[39;00m \u001b[38;5;28;01mas\u001b[39;00m err:\n",
      "\u001b[1;31mModuleNotFoundError\u001b[0m: No module named 'pygraphviz'",
      "\nThe above exception was the direct cause of the following exception:\n",
      "\u001b[1;31mImportError\u001b[0m                               Traceback (most recent call last)",
      "Input \u001b[1;32mIn [4]\u001b[0m, in \u001b[0;36m<cell line: 32>\u001b[1;34m()\u001b[0m\n\u001b[0;32m     29\u001b[0m \u001b[38;5;28mprint\u001b[39m(G\u001b[38;5;241m.\u001b[39mnodes)\n\u001b[0;32m     30\u001b[0m \u001b[38;5;28mprint\u001b[39m(G\u001b[38;5;241m.\u001b[39medges)\n\u001b[1;32m---> 32\u001b[0m A \u001b[38;5;241m=\u001b[39m \u001b[43mnx\u001b[49m\u001b[38;5;241;43m.\u001b[39;49m\u001b[43mnx_agraph\u001b[49m\u001b[38;5;241;43m.\u001b[39;49m\u001b[43mto_agraph\u001b[49m\u001b[43m(\u001b[49m\u001b[43mG\u001b[49m\u001b[43m)\u001b[49m\n\u001b[0;32m     33\u001b[0m A\u001b[38;5;241m.\u001b[39mlayout(\u001b[38;5;124m'\u001b[39m\u001b[38;5;124mdot\u001b[39m\u001b[38;5;124m'\u001b[39m)\n\u001b[0;32m     34\u001b[0m \u001b[38;5;66;03m#A.draw('salida.png') # guardar como png\u001b[39;00m\n",
      "File \u001b[1;32m~\\anaconda3\\lib\\site-packages\\networkx\\drawing\\nx_agraph.py:134\u001b[0m, in \u001b[0;36mto_agraph\u001b[1;34m(N)\u001b[0m\n\u001b[0;32m    132\u001b[0m     \u001b[38;5;28;01mimport\u001b[39;00m \u001b[38;5;21;01mpygraphviz\u001b[39;00m\n\u001b[0;32m    133\u001b[0m \u001b[38;5;28;01mexcept\u001b[39;00m \u001b[38;5;167;01mImportError\u001b[39;00m \u001b[38;5;28;01mas\u001b[39;00m err:\n\u001b[1;32m--> 134\u001b[0m     \u001b[38;5;28;01mraise\u001b[39;00m \u001b[38;5;167;01mImportError\u001b[39;00m(\n\u001b[0;32m    135\u001b[0m         \u001b[38;5;124m\"\u001b[39m\u001b[38;5;124mrequires pygraphviz \u001b[39m\u001b[38;5;124m\"\u001b[39m \u001b[38;5;124m\"\u001b[39m\u001b[38;5;124mhttp://pygraphviz.github.io/\u001b[39m\u001b[38;5;124m\"\u001b[39m\n\u001b[0;32m    136\u001b[0m     ) \u001b[38;5;28;01mfrom\u001b[39;00m \u001b[38;5;21;01merr\u001b[39;00m\n\u001b[0;32m    137\u001b[0m directed \u001b[38;5;241m=\u001b[39m N\u001b[38;5;241m.\u001b[39mis_directed()\n\u001b[0;32m    138\u001b[0m strict \u001b[38;5;241m=\u001b[39m nx\u001b[38;5;241m.\u001b[39mnumber_of_selfloops(N) \u001b[38;5;241m==\u001b[39m \u001b[38;5;241m0\u001b[39m \u001b[38;5;129;01mand\u001b[39;00m \u001b[38;5;129;01mnot\u001b[39;00m N\u001b[38;5;241m.\u001b[39mis_multigraph()\n",
      "\u001b[1;31mImportError\u001b[0m: requires pygraphviz http://pygraphviz.github.io/"
     ]
    }
   ],
   "source": [
    "G = nx.Graph()\n",
    "\n",
    "\n",
    "#Añadir nodos\n",
    "G.add_node(\"Kevin Bacon\")\n",
    "G.add_node(\"Tom Hanks\")\n",
    "G.add_nodes_from([\"Meg Ryan\", \"Parker Posey\", \"Lisa Kudrow\"])\n",
    " \n",
    "#Añadir aristas\n",
    "G.add_edge(\"Kevin Bacon\", \"Tom Hanks\")\n",
    "G.add_edge(\"Kevin Bacon\", \"Meg Ryan\")\n",
    "G.add_edges_from([(\"Tom Hanks\", \"Meg Ryan\"), (\"Tom Hanks\", \"Parker Posey\")])\n",
    "G.add_edges_from([(\"Parker Posey\", \"Meg Ryan\"), (\"Parker Posey\", \"Lisa Kudrow\")])\n",
    "\n",
    "# asignar atributos a nodos y aristas\n",
    "G.nodes[\"Tom Hanks\"][\"oscars\"] = 2\n",
    "G.edges[\"Kevin Bacon\", \"Tom Hanks\"][\"pelicula\"] = \"Apolo 13\"\n",
    "G.edges[\"Kevin Bacon\", \"Meg Ryan\"][\"pelicula\"] = \"En carne viva\"\n",
    "G.edges[\"Parker Posey\", \"Meg Ryan\"][\"pelicula\"] = \"Algo para recordar\"\n",
    "G.edges[\"Parker Posey\", \"Tom Hanks\"][\"pelicula\"] = \"Tienes un email\"\n",
    "G.edges[\"Parker Posey\", \"Lisa Kudrow\"][\"pelicula\"] = \"Esperando la hora\"\n",
    "print(G.nodes(data=True))\n",
    "print(G.edges(data=True))\n",
    "print(G[\"Kevin Bacon\"])\n",
    "\n",
    "##mostrar rutas \n",
    "#print(len(G.nodes))\n",
    "#print(len(G.edges))\n",
    "#print(G.nodes)\n",
    "#print(G.edges)\n",
    "\n",
    "A = nx.nx_agraph.to_agraph(G)\n",
    "A.layout('dot')\n",
    "#A.draw('salida.png') # guardar como png\n",
    " \n",
    "graphviz.Source(A.to_string()) # mostrar en jupyter"
   ]
  },
  {
   "cell_type": "code",
   "execution_count": null,
   "id": "49580763",
   "metadata": {},
   "outputs": [],
   "source": []
  }
 ],
 "metadata": {
  "kernelspec": {
   "display_name": "Python 3 (ipykernel)",
   "language": "python",
   "name": "python3"
  },
  "language_info": {
   "codemirror_mode": {
    "name": "ipython",
    "version": 3
   },
   "file_extension": ".py",
   "mimetype": "text/x-python",
   "name": "python",
   "nbconvert_exporter": "python",
   "pygments_lexer": "ipython3",
   "version": "3.9.12"
  }
 },
 "nbformat": 4,
 "nbformat_minor": 5
}
