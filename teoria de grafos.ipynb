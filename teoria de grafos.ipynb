{
 "cells": [
  {
   "cell_type": "markdown",
   "id": "98d389aa",
   "metadata": {},
   "source": [
    "modulo networkx esta es epecialista en graficar grafos \n",
    "\n",
    "investigar algoritmo de fuerza bruta \n",
    "\n",
    "mapploid netwokx numpy pandas tensorflow keras \n"
   ]
  },
  {
   "cell_type": "code",
   "execution_count": 3,
   "id": "c6b07e8f",
   "metadata": {
    "scrolled": true
   },
   "outputs": [],
   "source": [
    "import networkx as nx\n",
    "\n"
   ]
  },
  {
   "cell_type": "code",
   "execution_count": 4,
   "id": "c07f7167",
   "metadata": {},
   "outputs": [
    {
     "name": "stdout",
     "output_type": "stream",
     "text": [
      "devolver informacion sobre nodos\n",
      "4\n",
      "['a', 'b', 'c', 'd']\n",
      "devolver informacion sobre aristas\n",
      "6\n",
      "[('a', 'b'), ('a', 'c'), ('a', 'd'), ('b', 'd'), ('b', 'c'), ('c', 'd')]\n",
      "devolver las etiquetas\n",
      "15\n"
     ]
    }
   ],
   "source": [
    "G = nx.Graph()\n",
    "\n",
    "#agregar nodos\n",
    "G.add_nodes_from([\"a\",\"b\",\"c\",\"d\"])\n",
    "\n",
    "#agregar aristas\n",
    "G.add_edge(\"a\",\"b\")\n",
    "G.add_edge(\"a\",\"c\")\n",
    "G.add_edge(\"a\",\"d\")\n",
    "G.add_edge(\"c\",\"d\")\n",
    "G.add_edge(\"d\",\"b\")\n",
    "G.add_edge(\"c\",\"b\")\n",
    "\n",
    "#agregar etiquetas\n",
    "G.nodes[\"a\"][\"b\"]=20\n",
    "G.nodes[\"a\"][\"c\"]=10\n",
    "G.nodes[\"a\"][\"d\"]=22\n",
    "G.nodes[\"c\"][\"d\"]=18\n",
    "G.nodes[\"d\"][\"b\"]=30\n",
    "G.nodes[\"c\"][\"b\"]=15\n",
    "\n",
    "# para devolver datos de los nodos\n",
    "print(\"devolver informacion sobre nodos\")\n",
    "print(len(G.nodes))\n",
    "print(G.nodes)\n",
    "\n",
    "#devuelve aristas \n",
    "print(\"devolver informacion sobre aristas\")\n",
    "print(len(G.edges))\n",
    "print(G.edges)\n",
    "\n",
    "#devolver las etiqueta de una arista \n",
    "print(\"devolver las etiquetas\")\n",
    "print(G.nodes[\"c\"][\"b\"])\n"
   ]
  },
  {
   "cell_type": "code",
   "execution_count": 5,
   "id": "49580763",
   "metadata": {},
   "outputs": [],
   "source": [
    "#recorrido en profundidad \n",
    "class fuerzaBru:\n",
    "    p = []\n",
    "    def __init__(self):        \n",
    "    \n",
    "        \n",
    "    def recorrer(self,G,n):\n",
    "        marcar(n)\n",
    "        if()\n",
    "        \n",
    "    def marcar(self,valor):\n",
    "        self.p.append(valor)\n",
    "        \n",
    "    \n",
    "    "
   ]
  },
  {
   "cell_type": "code",
   "execution_count": null,
   "id": "c81f2bcc",
   "metadata": {},
   "outputs": [],
   "source": [
    "#generador de matriz de adyasencia \n",
    "def generator(self,G):\n",
    "\n",
    "    for i in range(len(G.nodes)):\n",
    "        for j in range(len(G.nodes)):\n",
    "            pass"
   ]
  }
 ],
 "metadata": {
  "kernelspec": {
   "display_name": "Python 3 (ipykernel)",
   "language": "python",
   "name": "python3"
  },
  "language_info": {
   "codemirror_mode": {
    "name": "ipython",
    "version": 3
   },
   "file_extension": ".py",
   "mimetype": "text/x-python",
   "name": "python",
   "nbconvert_exporter": "python",
   "pygments_lexer": "ipython3",
   "version": "3.9.12"
  }
 },
 "nbformat": 4,
 "nbformat_minor": 5
}
